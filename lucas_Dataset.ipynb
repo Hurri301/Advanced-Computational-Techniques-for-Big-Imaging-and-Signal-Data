{
  "cells": [
    {
      "cell_type": "markdown",
      "metadata": {
        "id": "view-in-github",
        "colab_type": "text"
      },
      "source": [
        "<a href=\"https://colab.research.google.com/github/Hurri301/Advanced-Computational-Techniques-for-Big-Imaging-and-Signal-Data/blob/main/lucas_Dataset.ipynb\" target=\"_parent\"><img src=\"https://colab.research.google.com/assets/colab-badge.svg\" alt=\"Open In Colab\"/></a>"
      ]
    },
    {
      "cell_type": "code",
      "source": [
        "!pip install torchmetrics"
      ],
      "metadata": {
        "colab": {
          "base_uri": "https://localhost:8080/"
        },
        "id": "wAZzZwABdquz",
        "outputId": "843d3b4d-9e34-433a-9134-5c9a73dc1cd4"
      },
      "id": "wAZzZwABdquz",
      "execution_count": 1,
      "outputs": [
        {
          "output_type": "stream",
          "name": "stdout",
          "text": [
            "Collecting torchmetrics\n",
            "  Downloading torchmetrics-1.4.0.post0-py3-none-any.whl (868 kB)\n",
            "\u001b[2K     \u001b[90m━━━━━━━━━━━━━━━━━━━━━━━━━━━━━━━━━━━━━━━━\u001b[0m \u001b[32m868.8/868.8 kB\u001b[0m \u001b[31m5.8 MB/s\u001b[0m eta \u001b[36m0:00:00\u001b[0m\n",
            "\u001b[?25hRequirement already satisfied: numpy>1.20.0 in /usr/local/lib/python3.10/dist-packages (from torchmetrics) (1.25.2)\n",
            "Requirement already satisfied: packaging>17.1 in /usr/local/lib/python3.10/dist-packages (from torchmetrics) (24.0)\n",
            "Requirement already satisfied: torch>=1.10.0 in /usr/local/lib/python3.10/dist-packages (from torchmetrics) (2.2.1+cu121)\n",
            "Collecting lightning-utilities>=0.8.0 (from torchmetrics)\n",
            "  Downloading lightning_utilities-0.11.2-py3-none-any.whl (26 kB)\n",
            "Requirement already satisfied: setuptools in /usr/local/lib/python3.10/dist-packages (from lightning-utilities>=0.8.0->torchmetrics) (67.7.2)\n",
            "Requirement already satisfied: typing-extensions in /usr/local/lib/python3.10/dist-packages (from lightning-utilities>=0.8.0->torchmetrics) (4.11.0)\n",
            "Requirement already satisfied: filelock in /usr/local/lib/python3.10/dist-packages (from torch>=1.10.0->torchmetrics) (3.14.0)\n",
            "Requirement already satisfied: sympy in /usr/local/lib/python3.10/dist-packages (from torch>=1.10.0->torchmetrics) (1.12)\n",
            "Requirement already satisfied: networkx in /usr/local/lib/python3.10/dist-packages (from torch>=1.10.0->torchmetrics) (3.3)\n",
            "Requirement already satisfied: jinja2 in /usr/local/lib/python3.10/dist-packages (from torch>=1.10.0->torchmetrics) (3.1.4)\n",
            "Requirement already satisfied: fsspec in /usr/local/lib/python3.10/dist-packages (from torch>=1.10.0->torchmetrics) (2023.6.0)\n",
            "Collecting nvidia-cuda-nvrtc-cu12==12.1.105 (from torch>=1.10.0->torchmetrics)\n",
            "  Using cached nvidia_cuda_nvrtc_cu12-12.1.105-py3-none-manylinux1_x86_64.whl (23.7 MB)\n",
            "Collecting nvidia-cuda-runtime-cu12==12.1.105 (from torch>=1.10.0->torchmetrics)\n",
            "  Using cached nvidia_cuda_runtime_cu12-12.1.105-py3-none-manylinux1_x86_64.whl (823 kB)\n",
            "Collecting nvidia-cuda-cupti-cu12==12.1.105 (from torch>=1.10.0->torchmetrics)\n",
            "  Using cached nvidia_cuda_cupti_cu12-12.1.105-py3-none-manylinux1_x86_64.whl (14.1 MB)\n",
            "Collecting nvidia-cudnn-cu12==8.9.2.26 (from torch>=1.10.0->torchmetrics)\n",
            "  Using cached nvidia_cudnn_cu12-8.9.2.26-py3-none-manylinux1_x86_64.whl (731.7 MB)\n",
            "Collecting nvidia-cublas-cu12==12.1.3.1 (from torch>=1.10.0->torchmetrics)\n",
            "  Using cached nvidia_cublas_cu12-12.1.3.1-py3-none-manylinux1_x86_64.whl (410.6 MB)\n",
            "Collecting nvidia-cufft-cu12==11.0.2.54 (from torch>=1.10.0->torchmetrics)\n",
            "  Using cached nvidia_cufft_cu12-11.0.2.54-py3-none-manylinux1_x86_64.whl (121.6 MB)\n",
            "Collecting nvidia-curand-cu12==10.3.2.106 (from torch>=1.10.0->torchmetrics)\n",
            "  Using cached nvidia_curand_cu12-10.3.2.106-py3-none-manylinux1_x86_64.whl (56.5 MB)\n",
            "Collecting nvidia-cusolver-cu12==11.4.5.107 (from torch>=1.10.0->torchmetrics)\n",
            "  Using cached nvidia_cusolver_cu12-11.4.5.107-py3-none-manylinux1_x86_64.whl (124.2 MB)\n",
            "Collecting nvidia-cusparse-cu12==12.1.0.106 (from torch>=1.10.0->torchmetrics)\n",
            "  Using cached nvidia_cusparse_cu12-12.1.0.106-py3-none-manylinux1_x86_64.whl (196.0 MB)\n",
            "Collecting nvidia-nccl-cu12==2.19.3 (from torch>=1.10.0->torchmetrics)\n",
            "  Using cached nvidia_nccl_cu12-2.19.3-py3-none-manylinux1_x86_64.whl (166.0 MB)\n",
            "Collecting nvidia-nvtx-cu12==12.1.105 (from torch>=1.10.0->torchmetrics)\n",
            "  Using cached nvidia_nvtx_cu12-12.1.105-py3-none-manylinux1_x86_64.whl (99 kB)\n",
            "Requirement already satisfied: triton==2.2.0 in /usr/local/lib/python3.10/dist-packages (from torch>=1.10.0->torchmetrics) (2.2.0)\n",
            "Collecting nvidia-nvjitlink-cu12 (from nvidia-cusolver-cu12==11.4.5.107->torch>=1.10.0->torchmetrics)\n",
            "  Using cached nvidia_nvjitlink_cu12-12.4.127-py3-none-manylinux2014_x86_64.whl (21.1 MB)\n",
            "Requirement already satisfied: MarkupSafe>=2.0 in /usr/local/lib/python3.10/dist-packages (from jinja2->torch>=1.10.0->torchmetrics) (2.1.5)\n",
            "Requirement already satisfied: mpmath>=0.19 in /usr/local/lib/python3.10/dist-packages (from sympy->torch>=1.10.0->torchmetrics) (1.3.0)\n",
            "Installing collected packages: nvidia-nvtx-cu12, nvidia-nvjitlink-cu12, nvidia-nccl-cu12, nvidia-curand-cu12, nvidia-cufft-cu12, nvidia-cuda-runtime-cu12, nvidia-cuda-nvrtc-cu12, nvidia-cuda-cupti-cu12, nvidia-cublas-cu12, lightning-utilities, nvidia-cusparse-cu12, nvidia-cudnn-cu12, nvidia-cusolver-cu12, torchmetrics\n",
            "Successfully installed lightning-utilities-0.11.2 nvidia-cublas-cu12-12.1.3.1 nvidia-cuda-cupti-cu12-12.1.105 nvidia-cuda-nvrtc-cu12-12.1.105 nvidia-cuda-runtime-cu12-12.1.105 nvidia-cudnn-cu12-8.9.2.26 nvidia-cufft-cu12-11.0.2.54 nvidia-curand-cu12-10.3.2.106 nvidia-cusolver-cu12-11.4.5.107 nvidia-cusparse-cu12-12.1.0.106 nvidia-nccl-cu12-2.19.3 nvidia-nvjitlink-cu12-12.4.127 nvidia-nvtx-cu12-12.1.105 torchmetrics-1.4.0.post0\n"
          ]
        }
      ]
    },
    {
      "cell_type": "code",
      "execution_count": 2,
      "id": "010770d6",
      "metadata": {
        "id": "010770d6"
      },
      "outputs": [],
      "source": [
        "import pandas as pd\n",
        "import torch\n",
        "import torch.nn as nn\n",
        "import torch.nn.functional as F\n",
        "import numpy as np\n",
        "from torch.utils.tensorboard import SummaryWriter\n",
        "import torchmetrics\n",
        "import matplotlib.pyplot as plt"
      ]
    },
    {
      "cell_type": "code",
      "source": [
        "from google.colab import drive\n",
        "drive.mount('/content/drive')"
      ],
      "metadata": {
        "colab": {
          "base_uri": "https://localhost:8080/"
        },
        "id": "ZtwWXs8ceWcL",
        "outputId": "a44c43c2-fcff-4b83-b954-c16995872240"
      },
      "id": "ZtwWXs8ceWcL",
      "execution_count": 3,
      "outputs": [
        {
          "output_type": "stream",
          "name": "stdout",
          "text": [
            "Mounted at /content/drive\n"
          ]
        }
      ]
    },
    {
      "cell_type": "code",
      "execution_count": 4,
      "id": "753db4a8",
      "metadata": {
        "id": "753db4a8"
      },
      "outputs": [],
      "source": [
        "import torch\n",
        "import torch.nn as nn\n",
        "import torch.optim as optim\n",
        "from torch.utils.data import DataLoader, random_split\n",
        "import pandas as pd\n",
        "import numpy as np\n",
        "\n",
        "class Dataset(torch.utils.data.Dataset):\n",
        "    def __init__(self, csv, src_prefix='spc.'):\n",
        "        self.df = pd.read_csv(csv, sep=',')\n",
        "        self.output_cols = ['coarse','clay','silt','sand','pH.in.CaCl2','pH.in.H2O','OC','CaCO3','N','P','K','CEC']\n",
        "        self.input_cols = [col for col in self.df.columns if col.startswith(src_prefix)]\n",
        "        x = np.array([float(col[len(src_prefix):]) for col in self.input_cols])\n",
        "        pos = np.argsort(x)\n",
        "        self.input_cols = [self.input_cols[cur_pos] for cur_pos in pos]\n",
        "\n",
        "    def __len__(self):\n",
        "        return len(self.df)\n",
        "\n",
        "    def __getitem__(self, idx):\n",
        "        cur_sample = self.df.iloc[idx]\n",
        "        cur_sample_x = cur_sample[self.input_cols]\n",
        "        cur_sample_y = cur_sample[self.output_cols]\n",
        "        cur_sample_x = torch.tensor(cur_sample_x.tolist())\n",
        "        cur_sample_y = torch.tensor(cur_sample_y.tolist())\n",
        "        return cur_sample_x, cur_sample_y\n"
      ]
    },
    {
      "cell_type": "code",
      "execution_count": 5,
      "id": "d883e752",
      "metadata": {
        "colab": {
          "base_uri": "https://localhost:8080/"
        },
        "id": "d883e752",
        "outputId": "fca9ac28-b9b3-456d-9817-5a4548dee2cb"
      },
      "outputs": [
        {
          "output_type": "stream",
          "name": "stdout",
          "text": [
            "torch.Size([4200])\n",
            "torch.Size([12])\n"
          ]
        }
      ],
      "source": [
        "# get validation set\n",
        "ds = Dataset('/content/drive/MyDrive/lucas_dataset_val.csv')\n",
        "# get first item\n",
        "inp, out = ds.__getitem__(0)\n",
        "# print shapes\n",
        "print(inp.shape)\n",
        "print(out.shape)"
      ]
    },
    {
      "cell_type": "code",
      "execution_count": 6,
      "id": "72e2bb2d",
      "metadata": {
        "id": "72e2bb2d",
        "outputId": "b94c5341-2537-4af8-9d24-f2d2db47dc36",
        "colab": {
          "base_uri": "https://localhost:8080/",
          "height": 430
        }
      },
      "outputs": [
        {
          "output_type": "display_data",
          "data": {
            "text/plain": [
              "<Figure size 640x480 with 1 Axes>"
            ],
            "image/png": "[encoded data removed]"
          },
          "metadata": {}
        }
      ],
      "source": [
        "# plot it\n",
        "plt.plot(inp)\n",
        "plt.show()"
      ]
    },
    {
      "cell_type": "markdown",
      "source": [
        "**Define the CNN Model**"
      ],
      "metadata": {
        "id": "jyFLjsDkiOW0"
      },
      "id": "jyFLjsDkiOW0"
    },
    {
      "cell_type": "code",
      "execution_count": 7,
      "id": "246c545d",
      "metadata": {
        "id": "246c545d"
      },
      "outputs": [],
      "source": [
        "class SoilCNN(nn.Module):\n",
        "    def __init__(self):\n",
        "        super(SoilCNN, self).__init__()\n",
        "        self.conv1 = nn.Conv1d(in_channels=1, out_channels=16, kernel_size=5, stride=1, padding=2)\n",
        "        self.pool = nn.MaxPool1d(kernel_size=2, stride=2, padding=0)\n",
        "        self.conv2 = nn.Conv1d(in_channels=16, out_channels=32, kernel_size=5, stride=1, padding=2)\n",
        "        self.relu = nn.ReLU()\n",
        "\n",
        "        # Calculate the size after convolution and pooling\n",
        "        self._to_linear = None\n",
        "        self.convs(torch.randn(1, 1, 4200))  # Dummy forward pass to calculate the output size\n",
        "        self.fc1 = nn.Linear(self._to_linear, 512)\n",
        "        self.fc2 = nn.Linear(512, 12)\n",
        "\n",
        "    def convs(self, x):\n",
        "        x = self.relu(self.conv1(x))\n",
        "        x = self.pool(x)\n",
        "        x = self.relu(self.conv2(x))\n",
        "        x = self.pool(x)\n",
        "        if self._to_linear is None:\n",
        "            self._to_linear = x.view(x.size(0), -1).size(1)\n",
        "        return x\n",
        "\n",
        "    def forward(self, x):\n",
        "        x = self.convs(x)\n",
        "        x = x.view(x.size(0), -1)  # Flatten the tensor\n",
        "        x = self.relu(self.fc1(x))\n",
        "        x = self.fc2(x)\n",
        "        return x\n",
        "\n",
        "# Hyperparameters\n",
        "learning_rate = 0.001\n",
        "batch_size = 16\n",
        "num_epochs = 10\n",
        "\n",
        "# Dataset and DataLoader\n",
        "csv_file = '/content/drive/MyDrive/lucas_dataset_val.csv'\n",
        "dataset = Dataset(csv_file)\n",
        "\n",
        "# Split into training and validation sets\n",
        "train_size = int(0.8 * len(dataset))\n",
        "val_size = len(dataset) - train_size\n",
        "train_dataset, val_dataset = random_split(dataset, [train_size, val_size])\n",
        "\n",
        "train_loader = DataLoader(train_dataset, batch_size=batch_size, shuffle=True)\n",
        "val_loader = DataLoader(val_dataset, batch_size=batch_size, shuffle=False)\n",
        "\n",
        "# Instantiate the model, loss function, and optimizer\n",
        "model = SoilCNN()\n",
        "criterion = nn.MSELoss()\n",
        "optimizer = optim.Adam(model.parameters(), lr=learning_rate)"
      ]
    },
    {
      "cell_type": "code",
      "source": [
        "# Training loop\n",
        "for epoch in range(num_epochs):\n",
        "    model.train()\n",
        "    running_loss = 0.0\n",
        "    for inputs, targets in train_loader:\n",
        "        inputs = inputs.unsqueeze(1).float()\n",
        "        targets = targets.float()\n",
        "\n",
        "        outputs = model(inputs)\n",
        "        loss = criterion(outputs, targets)\n",
        "\n",
        "        optimizer.zero_grad()\n",
        "        loss.backward()\n",
        "        optimizer.step()\n",
        "\n",
        "        running_loss += loss.item() * inputs.size(0)\n",
        "\n",
        "    epoch_loss = running_loss / len(train_loader.dataset)\n",
        "    print(f'Epoch [{epoch+1}/{num_epochs}], Loss: {epoch_loss:.4f}')\n",
        "\n",
        "    model.eval()\n",
        "    val_loss = 0.0\n",
        "    with torch.no_grad():\n",
        "        for inputs, targets in val_loader:\n",
        "            inputs = inputs.unsqueeze(1).float()\n",
        "            targets = targets.float()\n",
        "            outputs = model(inputs)\n",
        "            loss = criterion(outputs, targets)\n",
        "            val_loss += loss.item() * inputs.size(0)\n",
        "\n",
        "    val_loss /= len(val_loader.dataset)\n",
        "    print(f'Validation Loss: {val_loss:.4f}')\n",
        "\n",
        "# Save the model\n",
        "torch.save(model.state_dict(), 'soil_cnn_model.pth')\n"
      ],
      "metadata": {
        "colab": {
          "base_uri": "https://localhost:8080/"
        },
        "id": "rKcGo7IniXyi",
        "outputId": "c4e27b37-baef-41d6-a4a3-904c795589b3"
      },
      "id": "rKcGo7IniXyi",
      "execution_count": 8,
      "outputs": [
        {
          "output_type": "stream",
          "name": "stdout",
          "text": [
            "Epoch [1/10], Loss: 6187.1201\n",
            "Validation Loss: 4642.9542\n",
            "Epoch [2/10], Loss: 5753.5842\n",
            "Validation Loss: 4425.1076\n",
            "Epoch [3/10], Loss: 5575.3295\n",
            "Validation Loss: 4335.1257\n",
            "Epoch [4/10], Loss: 5422.2095\n",
            "Validation Loss: 4418.4073\n",
            "Epoch [5/10], Loss: 5218.9153\n",
            "Validation Loss: 4449.6447\n",
            "Epoch [6/10], Loss: 5121.4055\n",
            "Validation Loss: 4042.6869\n",
            "Epoch [7/10], Loss: 4955.1476\n",
            "Validation Loss: 3984.2826\n",
            "Epoch [8/10], Loss: 4909.2571\n",
            "Validation Loss: 4073.7540\n",
            "Epoch [9/10], Loss: 4871.4331\n",
            "Validation Loss: 4228.9101\n",
            "Epoch [10/10], Loss: 4789.5443\n",
            "Validation Loss: 3884.6634\n"
          ]
        }
      ]
    },
    {
      "cell_type": "markdown",
      "source": [
        "**Mastering PCA**"
      ],
      "metadata": {
        "id": "Rmo39LSGCbek"
      },
      "id": "Rmo39LSGCbek"
    },
    {
      "cell_type": "code",
      "source": [
        "import torch\n",
        "import pandas as pd\n",
        "import numpy as np\n",
        "from sklearn.decomposition import PCA\n",
        "\n",
        "# Load the validation set\n",
        "df_val = pd.read_csv('/content/drive/MyDrive/lucas_dataset_val.csv')\n",
        "\n",
        "# Extract features\n",
        "src_prefix = 'spc.'\n",
        "input_cols = [col for col in df_val.columns if col.startswith(src_prefix)]\n",
        "X = df_val[input_cols].values\n",
        "\n",
        "# Standardize the data\n",
        "X_std = (X - X.mean(axis=0)) / X.std(axis=0)\n",
        "\n",
        "# Compute PCA\n",
        "pca = PCA(n_components=0.9)  # Retain 90% variance\n",
        "X_pca = pca.fit_transform(X_std)\n",
        "\n",
        "# Print the number of principal components\n",
        "num_components = pca.n_components_\n",
        "print(\"Number of principal components survived:\", num_components)"
      ],
      "metadata": {
        "colab": {
          "base_uri": "https://localhost:8080/"
        },
        "id": "ASgazwNLCgYd",
        "outputId": "0fe6dd8a-9419-4400-feee-fba05f43a628"
      },
      "id": "ASgazwNLCgYd",
      "execution_count": 9,
      "outputs": [
        {
          "output_type": "stream",
          "name": "stdout",
          "text": [
            "Number of principal components survived: 1\n"
          ]
        }
      ]
    },
    {
      "cell_type": "code",
      "source": [
        "# Invert PCA transformation\n",
        "X_inverse = pca.inverse_transform(X_pca)\n",
        "\n",
        "# Print the shape of the inverted data to ensure it matches the original data\n",
        "print(\"Shape of inverted data:\", X_inverse.shape)"
      ],
      "metadata": {
        "colab": {
          "base_uri": "https://localhost:8080/"
        },
        "id": "rVTdN-EBD4b3",
        "outputId": "e08efeab-2c5d-4a45-d7d6-f7b8231d1973"
      },
      "id": "rVTdN-EBD4b3",
      "execution_count": 10,
      "outputs": [
        {
          "output_type": "stream",
          "name": "stdout",
          "text": [
            "Shape of inverted data: (2000, 4200)\n"
          ]
        }
      ]
    },
    {
      "cell_type": "code",
      "source": [
        "import os\n",
        "import pandas as pd\n",
        "import torch\n",
        "import torch.nn as nn\n",
        "import matplotlib.pyplot as plt\n",
        "import numpy as np\n",
        "from sklearn.decomposition import PCA\n",
        "import seaborn as sns\n",
        "\n",
        "sns.set_theme()\n",
        "\n",
        "\n",
        "\n",
        "\n",
        "def get_src(df, src_prefix):\n",
        "    ''' gets hyperspectral signals using cols starting with src_prefix '''\n",
        "    # get x points\n",
        "    src_cols = [col for col in df.columns if col.startswith(src_prefix)]\n",
        "    x = np.array([float(col[len(src_prefix):]) for col in src_cols])\n",
        "    # sort x points in increasing order\n",
        "    pos = np.argsort(x)\n",
        "    src_cols = [src_cols[cur_pos] for cur_pos in pos]\n",
        "    # extract x and y values\n",
        "    src_x = x[pos]\n",
        "    src_y = df[src_cols].to_numpy()\n",
        "    # convert to tensor\n",
        "    src_x = torch.from_numpy(src_x).float()\n",
        "    src_y = torch.from_numpy(src_y).float()\n",
        "    # return\n",
        "    return src_cols, src_x, src_y\n",
        "\n",
        "\n",
        "def get_tgt(df, tgt_vars):\n",
        "    ''' gets target variables using specified columns '''\n",
        "    # extract variables\n",
        "    tgt_vars = df[tgt_vars].to_numpy()\n",
        "    # convert to torch\n",
        "    tgt_vars = torch.from_numpy(tgt_vars).float()\n",
        "    # return them\n",
        "    return tgt_vars\n",
        "\n",
        "\n",
        "def load_data(fn):\n",
        "    # read csv\n",
        "    df = pd.read_csv(fn)\n",
        "    # get vars\n",
        "    src_cols, src_x, src_y = get_src(df, src_prefix)\n",
        "    # return\n",
        "    return df, src_cols, src_x, src_y\n",
        "\n",
        "\n",
        "\n",
        "if __name__ == '__main__':\n",
        "    # define input file\n",
        "    data_fn = '/content/lucas_dataset_val.csv'\n",
        "    src_prefix = 'spc.'\n",
        "    n_components = 0.9\n",
        "    # read file\n",
        "    df, src_cols, src_x, src_y = load_data(data_fn)\n",
        "    # apply pca\n",
        "    pca = PCA(n_components=n_components)\n",
        "    # fit and transform\n",
        "    components = pca.fit_transform(src_y)\n",
        "    # print shape\n",
        "    print('Original signal had {} components, PCA reduced it to {} components.'.format(src_y.shape[1], components.shape[1]))\n",
        "    # invert components\n",
        "    inverted = pca.inverse_transform(components)\n",
        "    # plot according to values\n",
        "    plt.plot(src_x, src_y[0], 'b', label='original')\n",
        "    plt.plot(src_x, inverted[0], 'r', label='PCA')\n",
        "    plt.legend()\n",
        "    plt.tight_layout()\n",
        "    plt.savefig('pca.png', dpi=300)\n",
        "    # plt.show()\n",
        ""
      ],
      "metadata": {
        "colab": {
          "base_uri": "https://localhost:8080/",
          "height": 499
        },
        "id": "jJmWnBjaG1WY",
        "outputId": "a55eb36b-0f94-485e-c0cf-776135a3920f"
      },
      "id": "jJmWnBjaG1WY",
      "execution_count": 17,
      "outputs": [
        {
          "output_type": "stream",
          "name": "stdout",
          "text": [
            "Original signal had 4200 components, PCA reduced it to 2 components.\n"
          ]
        },
        {
          "output_type": "display_data",
          "data": {
            "text/plain": [
              "<Figure size 640x480 with 1 Axes>"
            ],
            "image/png": "[encoded data removed]"
          },
          "metadata": {}
        }
      ]
    },
    {
      "cell_type": "code",
      "source": [],
      "metadata": {
        "id": "leN_dNyzKrIC"
      },
      "id": "leN_dNyzKrIC",
      "execution_count": null,
      "outputs": []
    }
  ],
  "metadata": {
    "kernelspec": {
      "display_name": "Python 3 (ipykernel)",
      "language": "python",
      "name": "python3"
    },
    "language_info": {
      "codemirror_mode": {
        "name": "ipython",
        "version": 3
      },
      "file_extension": ".py",
      "mimetype": "text/x-python",
      "name": "python",
      "nbconvert_exporter": "python",
      "pygments_lexer": "ipython3",
      "version": "3.10.6"
    },
    "colab": {
      "provenance": [],
      "include_colab_link": true
    }
  },
  "nbformat": 4,
  "nbformat_minor": 5
}